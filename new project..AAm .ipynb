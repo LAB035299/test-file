{
  "nbformat": 4,
  "nbformat_minor": 0,
  "metadata": {
    "colab": {
      "name": "Untitled3.ipynb",
      "provenance": [],
      "collapsed_sections": []
    },
    "kernelspec": {
      "name": "python3",
      "display_name": "Python 3"
    },
    "language_info": {
      "name": "python"
    }
  },
  "cells": [
    {
      "cell_type": "code",
      "execution_count": null,
      "metadata": {
        "colab": {
          "base_uri": "https://localhost:8080/"
        },
        "id": "KVaFyNcrPmtr",
        "outputId": "caad7c26-6121-464d-e44f-a19d52da6366"
      },
      "outputs": [
        {
          "output_type": "stream",
          "name": "stdout",
          "text": [
            "the numbers are odd: 3\n",
            "the numbers are odd: 5\n",
            "the numbers are odd: 7\n"
          ]
        }
      ],
      "source": [
        "#Q1.print odd numbers in a list.\n",
        "\n",
        "odd_numbers=[3,4,5,6,7]\n",
        "for num in range(5):\n",
        "  if odd_numbers[num]%2!=0:\n",
        "   print(\"the numbers are odd:\", odd_numbers[num])"
      ]
    },
    {
      "cell_type": "code",
      "source": [
        "#Q2: sum of list elements:\n",
        "\t\n",
        "s=[2,3,4,6]\n",
        "s1=0\n",
        "\n",
        "for ss in range(4):\n",
        "\ts1+=s[ss]\n",
        "\t\n",
        "print('sum of number in list is: ', s1)"
      ],
      "metadata": {
        "colab": {
          "base_uri": "https://localhost:8080/"
        },
        "id": "2s5P43oCQRKo",
        "outputId": "d2f3065b-35d8-4fdf-e8e5-e4c5c1615d32"
      },
      "execution_count": null,
      "outputs": [
        {
          "output_type": "stream",
          "name": "stdout",
          "text": [
            "sum of number in list is:  15\n"
          ]
        }
      ]
    },
    {
      "cell_type": "code",
      "source": [
        "#Q3.\n",
        "list=[\"asim\",\"malik\",\"yousuf\",\"ali\"]\n",
        "list.reverse()\n",
        "print(list)\n",
        "\n",
        "sorted(list,reverse=True)\n",
        "print('\\nthe sorted reverse list is: ', list)"
      ],
      "metadata": {
        "colab": {
          "base_uri": "https://localhost:8080/"
        },
        "id": "PwoKD3KsQh7J",
        "outputId": "32e084e4-e4e1-488f-9fd5-952d3825b049"
      },
      "execution_count": null,
      "outputs": [
        {
          "output_type": "stream",
          "name": "stdout",
          "text": [
            "['ali', 'yousuf', 'malik', 'asim']\n",
            "\n",
            "the sorted reverse list is:  ['ali', 'yousuf', 'malik', 'asim']\n"
          ]
        }
      ]
    },
    {
      "cell_type": "code",
      "source": [
        "# Q4.finding top two max numbers in alist\n",
        "\n",
        "lst=[2,4,8,3,4,5]\n",
        "\n",
        "for listt in range(6):\n",
        "\tif lst[listt] == lst[2]:\n",
        "\t\tprint('the first highest number is: ', lst[listt])\n",
        "\telif  lst[listt] == lst[5]:\n",
        "\t\tprint('the second highest number is: ', lst[listt])"
      ],
      "metadata": {
        "colab": {
          "base_uri": "https://localhost:8080/"
        },
        "id": "tVTE_FsFQ2S3",
        "outputId": "b9f8c212-4353-4648-e8d4-73e441800c0b"
      },
      "execution_count": null,
      "outputs": [
        {
          "output_type": "stream",
          "name": "stdout",
          "text": [
            "the first highest number is:  8\n",
            "the second highest number is:  5\n"
          ]
        }
      ]
    },
    {
      "cell_type": "code",
      "source": [
        "# Q5.\n",
        "lst=[2,4,8,3,4,5]\n",
        "\n",
        "for listt in range(6):\n",
        "\tif  lst[listt] == lst[5]:\n",
        "\t\tprint('the second highest number in an integer list is: ', lst[listt])"
      ],
      "metadata": {
        "colab": {
          "base_uri": "https://localhost:8080/"
        },
        "id": "cHiXlz1jQ9L0",
        "outputId": "e8add669-852f-43df-dd98-cb494b2af0ca"
      },
      "execution_count": null,
      "outputs": [
        {
          "output_type": "stream",
          "name": "stdout",
          "text": [
            "the second highest number in an integer list is:  5\n"
          ]
        }
      ]
    },
    {
      "cell_type": "code",
      "source": [
        "#Q6.using sort reverse the list.\n",
        "\n",
        "list=[\"malik\",\"asim\",\"yousuf\",\"ali\"]\n",
        "\n",
        "list.sort(reverse=True)\n",
        "print('\\nthe sorted reverse list is: ', list)"
      ],
      "metadata": {
        "colab": {
          "base_uri": "https://localhost:8080/"
        },
        "id": "t0lwHn61RDHG",
        "outputId": "6d15a029-cbdf-4eb2-cfe2-bc17ae62fd7e"
      },
      "execution_count": null,
      "outputs": [
        {
          "output_type": "stream",
          "name": "stdout",
          "text": [
            "\n",
            "the sorted reverse list is:  ['yousuf', 'malik', 'asim', 'ali']\n"
          ]
        }
      ]
    },
    {
      "cell_type": "code",
      "source": [
        "#Q7.\n",
        "characters=\"asimmalik\"\n",
        "\n",
        "for repeat in range(len(characters)):\n",
        " if characters[repeat]!=characters[1]:\n",
        " \tprint(characters[repeat])"
      ],
      "metadata": {
        "colab": {
          "base_uri": "https://localhost:8080/"
        },
        "id": "y5WOr_VhRrfS",
        "outputId": "36b40206-a7fc-4307-a8a1-f1aea30cc72f"
      },
      "execution_count": null,
      "outputs": [
        {
          "output_type": "stream",
          "name": "stdout",
          "text": [
            "a\n",
            "i\n",
            "m\n",
            "m\n",
            "a\n",
            "l\n",
            "i\n",
            "k\n"
          ]
        }
      ]
    },
    {
      "cell_type": "code",
      "source": [
        "#Q8.entered character is a vowel or consonant.\n",
        "\n",
        "string=input(\"enter a vowel character: \")\n",
        "if string=='a' or 'e' or 'i' or 'o' or 'u':\n",
        "\tprint(\"\\nentered character is a vowel.\")\n",
        "elif string!=vowel:\n",
        "\tprint(\"\\nentered character is a consonant.\")"
      ],
      "metadata": {
        "colab": {
          "base_uri": "https://localhost:8080/"
        },
        "id": "eyTCpVgySGHk",
        "outputId": "3205e461-26f8-47f6-b75f-4c6face58591"
      },
      "execution_count": null,
      "outputs": [
        {
          "output_type": "stream",
          "name": "stdout",
          "text": [
            "enter a vowel character: aeiou\n",
            "\n",
            "entered character is a vowel.\n"
          ]
        }
      ]
    },
    {
      "cell_type": "code",
      "source": [
        "# Q9.merge two list in one list.\n",
        "\n",
        "lst_1=[\"abresh\",\"laraib\",\"sania\"]\n",
        "print(lst_1)\n",
        "\n",
        "lst_2=[\"areej\",\"asim\",\"aali\"]\n",
        "print(lst_2)\n",
        "\n",
        "lst_1.append(lst_2)\n",
        "print('\\nthe list appended in one list: ',lst_1)"
      ],
      "metadata": {
        "colab": {
          "base_uri": "https://localhost:8080/"
        },
        "id": "UhH-LFSKSTJR",
        "outputId": "e6886669-09d4-4d1c-d282-8fb9653c0ba7"
      },
      "execution_count": null,
      "outputs": [
        {
          "output_type": "stream",
          "name": "stdout",
          "text": [
            "['abresh', 'laraib', 'sania']\n",
            "['areej', 'asim', 'aali']\n",
            "\n",
            "the list appended in one list:  ['abresh', 'laraib', 'sania', ['areej', 'asim', 'aali']]\n"
          ]
        }
      ]
    },
    {
      "cell_type": "code",
      "source": [
        " #Q10.finding factorial\n",
        "factorial_number= int(input(\"enter number to find a factorial: \"))\n",
        "\n",
        "num_1=1\n",
        "for num in range(1, factorial_number+1):\n",
        "\tnum_1*=num\n",
        "print(num_1)"
      ],
      "metadata": {
        "colab": {
          "base_uri": "https://localhost:8080/"
        },
        "id": "cwLVQ9efSejX",
        "outputId": "6e120cbf-166d-4711-c2b2-f6f43937feb2"
      },
      "execution_count": null,
      "outputs": [
        {
          "output_type": "stream",
          "name": "stdout",
          "text": [
            "enter number to find a factorial: 34\n",
            "295232799039604140847618609643520000000\n"
          ]
        }
      ]
    }
  ]
}