{
  "nbformat": 4,
  "nbformat_minor": 0,
  "metadata": {
    "colab": {
      "name": "ASIM.ipynb",
      "provenance": [],
      "collapsed_sections": []
    },
    "kernelspec": {
      "name": "python3",
      "display_name": "Python 3"
    },
    "language_info": {
      "name": "python"
    }
  },
  "cells": [
    {
      "cell_type": "code",
      "execution_count": null,
      "metadata": {
        "colab": {
          "base_uri": "https://localhost:8080/"
        },
        "id": "KVaFyNcrPmtr",
        "outputId": "4045af82-82a0-403f-fa70-313776ede899"
      },
      "outputs": [
        {
          "output_type": "stream",
          "name": "stdout",
          "text": [
            "enter a number to check if its odd or not: 2\n",
            "enter a number to check if its odd or not: 3\n",
            "enter a number to check if its odd or not: 4\n",
            "enter a number to check if its odd or not: 5\n",
            "odd numbers in a list is:  [3, 5]\n"
          ]
        }
      ],
      "source": [
        "#Q1.print odd numbers in a list.\n",
        "odd_list=[]\n",
        "for no in range(1,5):\n",
        "  odd_user_input=int(input(\"enter a number to check if its odd or not: \"))\n",
        "  if(odd_user_input%2!=0):\n",
        "   odd_list.append(odd_user_input)\n",
        "print(\"odd numbers in a list is: \",odd_list)"
      ]
    },
    {
      "cell_type": "code",
      "source": [
        "#Q2: sum of list elements:\n",
        "\t\n",
        "s=[2,3,4,6]\n",
        "s1=0\n",
        "\n",
        "for ss in range(4):\n",
        "\ts1+=s[ss]\n",
        "\t\n",
        "print('sum of number in list is: ', s1)"
      ],
      "metadata": {
        "colab": {
          "base_uri": "https://localhost:8080/"
        },
        "id": "2s5P43oCQRKo",
        "outputId": "d2f3065b-35d8-4fdf-e8e5-e4c5c1615d32"
      },
      "execution_count": null,
      "outputs": [
        {
          "output_type": "stream",
          "name": "stdout",
          "text": [
            "sum of number in list is:  15\n"
          ]
        }
      ]
    },
    {
      "cell_type": "code",
      "source": [
        "#Q3.\n",
        "list=[\"asim\",\"malik\",\"yousuf\",\"ali\"]\n",
        "list.reverse()\n",
        "print(list)\n",
        "\n",
        "#applying slicing.\n",
        "print(\"applying slicing to reverse the list: \",list[::-1])"
      ],
      "metadata": {
        "colab": {
          "base_uri": "https://localhost:8080/"
        },
        "id": "PwoKD3KsQh7J",
        "outputId": "a571e0b7-bf89-470f-b345-0f4aa18c65bb"
      },
      "execution_count": null,
      "outputs": [
        {
          "output_type": "stream",
          "name": "stdout",
          "text": [
            "['ali', 'yousuf', 'malik', 'asim']\n",
            "applying slicing to reverse the list:  ['asim', 'malik', 'yousuf', 'ali']\n"
          ]
        }
      ]
    },
    {
      "cell_type": "code",
      "source": [
        "# Q4.finding top two max numbers in alist\n",
        "\n",
        "lst=[2,4,8,3,4,5]\n",
        "\n",
        "for listt in range(6):\n",
        "\tif lst[listt] == lst[2]:\n",
        "\t\tprint('the first highest number is: ', lst[listt])\n",
        "\telif  lst[listt] == lst[5]:\n",
        "\t\tprint('the second highest number is: ', lst[listt])"
      ],
      "metadata": {
        "colab": {
          "base_uri": "https://localhost:8080/"
        },
        "id": "tVTE_FsFQ2S3",
        "outputId": "b9f8c212-4353-4648-e8d4-73e441800c0b"
      },
      "execution_count": null,
      "outputs": [
        {
          "output_type": "stream",
          "name": "stdout",
          "text": [
            "the first highest number is:  8\n",
            "the second highest number is:  5\n"
          ]
        }
      ]
    },
    {
      "cell_type": "code",
      "source": [
        "# Q5.\n",
        "lst=[2,4,8,3,4,5]\n",
        "\n",
        "for listt in range(6):\n",
        "\tif  lst[listt] == lst[5]:\n",
        "\t\tprint('the second highest number in an integer list is: ', lst[listt])"
      ],
      "metadata": {
        "colab": {
          "base_uri": "https://localhost:8080/"
        },
        "id": "cHiXlz1jQ9L0",
        "outputId": "e8add669-852f-43df-dd98-cb494b2af0ca"
      },
      "execution_count": null,
      "outputs": [
        {
          "output_type": "stream",
          "name": "stdout",
          "text": [
            "the second highest number in an integer list is:  5\n"
          ]
        }
      ]
    },
    {
      "cell_type": "code",
      "source": [
        "#Q6.using sort reverse the list.\n",
        "\n",
        "list=[\"malik\",\"asim\",\"yousuf\",\"ali\"]\n",
        "list.sort(reverse=True)\n",
        "print(\"the list using reverse method: \",list)\n"
      ],
      "metadata": {
        "colab": {
          "base_uri": "https://localhost:8080/"
        },
        "id": "t0lwHn61RDHG",
        "outputId": "15daed28-545c-4f03-e8b1-5f9883b6f087"
      },
      "execution_count": null,
      "outputs": [
        {
          "output_type": "stream",
          "name": "stdout",
          "text": [
            "the list using reverse method:  ['yousuf', 'malik', 'asim', 'ali']\n"
          ]
        }
      ]
    },
    {
      "cell_type": "code",
      "source": [
        "#Q7.\n",
        "characters=\"asim mlik\"\n",
        "\n",
        "for repeat in range(len(characters)):\n",
        " if characters[repeat]!=characters[3] :\n",
        " \tprint(characters[repeat])"
      ],
      "metadata": {
        "colab": {
          "base_uri": "https://localhost:8080/"
        },
        "id": "y5WOr_VhRrfS",
        "outputId": "ebdcfb37-f4e6-4d6e-aaf2-d35359a68dd5"
      },
      "execution_count": null,
      "outputs": [
        {
          "output_type": "stream",
          "name": "stdout",
          "text": [
            "a\n",
            "s\n",
            "i\n",
            " \n",
            "l\n",
            "i\n",
            "k\n"
          ]
        }
      ]
    },
    {
      "cell_type": "code",
      "source": [
        "#Q8.entered character is a vowel or consonant.\n",
        "\n",
        "string=input(\"enter a vowel character: \")\n",
        "vowel='a' or 'e' or 'i' or 'o' or 'u'\n",
        "if string==vowel:\n",
        "\tprint(\"\\nentered character is a vowel.\")\n",
        "elif string!=vowel:\n",
        "\tprint(\"\\nentered character is a consonant.\")"
      ],
      "metadata": {
        "colab": {
          "base_uri": "https://localhost:8080/"
        },
        "id": "eyTCpVgySGHk",
        "outputId": "2c0fd41f-482e-4df5-f41e-984a07c04e33"
      },
      "execution_count": null,
      "outputs": [
        {
          "output_type": "stream",
          "name": "stdout",
          "text": [
            "enter a vowel character: d\n",
            "\n",
            "entered character is a consonant.\n"
          ]
        }
      ]
    },
    {
      "cell_type": "code",
      "source": [
        "# Q9.merge two list in one list.\n",
        "\n",
        "lst_1=[\"abresh\",\"laraib\",\"sania\"]\n",
        "print(lst_1)\n",
        "\n",
        "lst_2=[\"areej\",\"asim\",\"aali\"]\n",
        "print(lst_2)\n",
        "\n",
        "lst_1.append(lst_2)\n",
        "print('\\nthe list appended in one list: ',lst_1)"
      ],
      "metadata": {
        "colab": {
          "base_uri": "https://localhost:8080/"
        },
        "id": "UhH-LFSKSTJR",
        "outputId": "e6886669-09d4-4d1c-d282-8fb9653c0ba7"
      },
      "execution_count": null,
      "outputs": [
        {
          "output_type": "stream",
          "name": "stdout",
          "text": [
            "['abresh', 'laraib', 'sania']\n",
            "['areej', 'asim', 'aali']\n",
            "\n",
            "the list appended in one list:  ['abresh', 'laraib', 'sania', ['areej', 'asim', 'aali']]\n"
          ]
        }
      ]
    },
    {
      "cell_type": "code",
      "source": [
        " #Q10.finding factorial\n",
        "factorial_number= int(input(\"enter number to find a factorial: \"))\n",
        "\n",
        "num_1=1\n",
        "for num in range(1, factorial_number+1):\n",
        "\tnum_1*=num\n",
        "print(num_1)"
      ],
      "metadata": {
        "colab": {
          "base_uri": "https://localhost:8080/"
        },
        "id": "cwLVQ9efSejX",
        "outputId": "25974748-fab8-4eba-d505-0ded8471f3d4"
      },
      "execution_count": null,
      "outputs": [
        {
          "output_type": "stream",
          "name": "stdout",
          "text": [
            "enter number to find a factorial: 8\n",
            "40320\n"
          ]
        }
      ]
    }
  ]
}